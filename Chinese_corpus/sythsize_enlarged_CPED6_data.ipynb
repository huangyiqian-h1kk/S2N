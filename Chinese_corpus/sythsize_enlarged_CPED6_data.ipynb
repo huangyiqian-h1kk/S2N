{
 "cells": [
  {
   "cell_type": "code",
   "execution_count": null,
   "id": "ba1dc54f",
   "metadata": {},
   "outputs": [],
   "source": [
    "!git clone https://github.com/zhangxt/CEDAC.git"
   ]
  },
  {
   "cell_type": "code",
   "execution_count": null,
   "id": "c7f49925",
   "metadata": {},
   "outputs": [],
   "source": [
    "!pip install rarfile"
   ]
  },
  {
   "cell_type": "code",
   "execution_count": 19,
   "id": "3fd4a21c",
   "metadata": {},
   "outputs": [],
   "source": [
    "import zipfile\n",
    " \n",
    "f = zipfile.ZipFile(\"./CEDAC/Stargate SG-1.zip\",'r') # 压缩文件位置\n",
    "for file in f.namelist():\n",
    "    f.extract(file,\"./CEDAC/\")               # 解压位置\n",
    "f.close()"
   ]
  },
  {
   "cell_type": "code",
   "execution_count": null,
   "id": "65bc458c",
   "metadata": {},
   "outputs": [],
   "source": [
    "!pip install unrar"
   ]
  },
  {
   "cell_type": "code",
   "execution_count": 9,
   "id": "8f130ef3",
   "metadata": {},
   "outputs": [],
   "source": [
    "!mv /home/lr/h1k/.local/share/Trash/files/mpdd ./mpdd"
   ]
  },
  {
   "cell_type": "code",
   "execution_count": 27,
   "id": "bd2f60a9",
   "metadata": {},
   "outputs": [],
   "source": []
  },
  {
   "cell_type": "code",
   "execution_count": 28,
   "id": "cdc2e78b",
   "metadata": {},
   "outputs": [
    {
     "data": {
      "text/plain": [
       "12466"
      ]
     },
     "execution_count": 28,
     "metadata": {},
     "output_type": "execute_result"
    }
   ],
   "source": [
    "train_bottom"
   ]
  },
  {
   "cell_type": "code",
   "execution_count": 56,
   "id": "b5b0d015",
   "metadata": {},
   "outputs": [
    {
     "name": "stdout",
     "output_type": "stream",
     "text": [
      "12466\n",
      "27462\n"
     ]
    }
   ],
   "source": [
    "import json\n",
    "import random\n",
    "whole_scope1=list()\n",
    "whole_scope2=list()\n",
    "train_dict=dict()\n",
    "test_dict=dict()\n",
    "\n",
    "with open(\"/home/lr/h1k/KNN-BERT-main/csi_sequetial_fine_tuning/data/CPED6_MLM_CLOZE/MLM_Cloze_CPED_train.json\") as g:\n",
    "    data=json.load(g)\n",
    "    whole_scope1=data[\"data\"]\n",
    "    random.shuffle(whole_scope1)\n",
    "    train_bottom1=len(whole_scope1)//7\n",
    "    whole_scope1=whole_scope1[:train_bottom1]\n",
    "    print(train_bottom1)\n",
    "    \n",
    "    \n",
    "for name in [\"CRECIL_train.json\",\"Friends.json\",\"mpdd_train.json\",\"TBBT.json\"]:\n",
    "    with open(name) as g:\n",
    "        data=json.load(g)\n",
    "        whole_scope2+=data[\"data\"]\n",
    "        train_bottom2=int(len(whole_scope2)//5.5*4)\n",
    "\n",
    "whole_scope=whole_scope1+whole_scope2[:train_bottom2]\n",
    "random.shuffle(whole_scope)\n",
    "print(len(whole_scope))"
   ]
  },
  {
   "cell_type": "code",
   "execution_count": 62,
   "id": "0a83e147",
   "metadata": {},
   "outputs": [],
   "source": [
    "train_dict[\"data\"]=whole_scope\n",
    "train_dict['version']='v1.0'\n",
    "\n",
    "test_dict[\"data\"]=whole_scope1[int(-0.3*train_bottom1):]+whole_scope2[int(1.15*train_bottom2):]\n",
    "test_dict['version']='v1.0'\n",
    "\n",
    "with open(\"CRECIL_Friends_mpdd_TBBT_train.json\", 'w') as f:\n",
    "    json.dump(train_dict, f, ensure_ascii=False,indent=2)\n",
    "    \n",
    "with open(\"CRECIL_Friends_mpdd_TBBT_test.json\", 'w') as f:\n",
    "    json.dump(test_dict, f, ensure_ascii=False,indent=2)"
   ]
  },
  {
   "cell_type": "code",
   "execution_count": 7,
   "id": "97c8f4d3",
   "metadata": {},
   "outputs": [],
   "source": [
    "a=[1,2]\n",
    "a+=[1,2,3]"
   ]
  },
  {
   "cell_type": "code",
   "execution_count": 12,
   "id": "7deb2015",
   "metadata": {},
   "outputs": [
    {
     "data": {
      "text/plain": [
       "['v1.0']"
      ]
     },
     "execution_count": 12,
     "metadata": {},
     "output_type": "execute_result"
    }
   ],
   "source": [
    "data['version']"
   ]
  },
  {
   "cell_type": "code",
   "execution_count": 53,
   "id": "b4d3b468",
   "metadata": {},
   "outputs": [
    {
     "data": {
      "text/plain": [
       "3739"
      ]
     },
     "execution_count": 53,
     "metadata": {},
     "output_type": "execute_result"
    }
   ],
   "source": [
    "len(whole_scope1[int(-0.3*train_bottom1):])"
   ]
  },
  {
   "cell_type": "code",
   "execution_count": 61,
   "id": "3451133a",
   "metadata": {},
   "outputs": [
    {
     "data": {
      "text/plain": [
       "3376"
      ]
     },
     "execution_count": 61,
     "metadata": {},
     "output_type": "execute_result"
    }
   ],
   "source": [
    "len(whole_scope2[int(1.15*train_bottom2):])"
   ]
  },
  {
   "cell_type": "code",
   "execution_count": 49,
   "id": "8d8f8aab",
   "metadata": {},
   "outputs": [
    {
     "data": {
      "text/plain": [
       "16496"
      ]
     },
     "execution_count": 49,
     "metadata": {},
     "output_type": "execute_result"
    }
   ],
   "source": [
    "len(whole_scope2[:train_bottom2])"
   ]
  },
  {
   "cell_type": "code",
   "execution_count": null,
   "id": "adf99543",
   "metadata": {},
   "outputs": [],
   "source": []
  }
 ],
 "metadata": {
  "kernelspec": {
   "display_name": "Python 3 (ipykernel)",
   "language": "python",
   "name": "python3"
  },
  "language_info": {
   "codemirror_mode": {
    "name": "ipython",
    "version": 3
   },
   "file_extension": ".py",
   "mimetype": "text/x-python",
   "name": "python",
   "nbconvert_exporter": "python",
   "pygments_lexer": "ipython3",
   "version": "3.8.17"
  }
 },
 "nbformat": 4,
 "nbformat_minor": 5
}
